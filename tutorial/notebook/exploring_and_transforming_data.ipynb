{
 "cells": [
  {
   "cell_type": "markdown",
   "metadata": {
    "collapsed": false
   },
   "source": [
    "# 1. Tensor\tproperties - ranks, shapes and types"
   ]
  },
  {
   "cell_type": "code",
   "execution_count": 4,
   "metadata": {
    "collapsed": false
   },
   "outputs": [
    {
     "name": "stdout",
     "output_type": "stream",
     "text": [
      "Tensor(\"Const_3:0\", shape=(2, 2, 2), dtype=int32)\n",
      "5\n"
     ]
    }
   ],
   "source": [
    "## tensor rank\n",
    "import tensorflow as tf\n",
    "tens1 = tf.constant([[[1,2],[2,3]],[[3,4],[5,6]]])\n",
    "print tens1\n",
    "sess = tf.Session()\n",
    "print sess.run(tens1)[1,1,0]"
   ]
  },
  {
   "cell_type": "markdown",
   "metadata": {},
   "source": [
    "# 2. Creating new tensor"
   ]
  },
  {
   "cell_type": "code",
   "execution_count": 10,
   "metadata": {
    "collapsed": false
   },
   "outputs": [
    {
     "name": "stdout",
     "output_type": "stream",
     "text": [
      "[ 0.34128672  0.1970298   0.83438283  0.43739271  0.86360323  0.09209151\n",
      "  0.43836933  0.28598422  0.9213565   0.04425582]\n",
      "[1 2 3]\n",
      "[[ 1.  2.  3.]\n",
      " [ 2.  3.  4.]]\n"
     ]
    }
   ],
   "source": [
    "import numpy as np\n",
    "x = tf.constant(np.random.rand(10).astype(np.float32))\n",
    "y = tf.constant([1,2,3])\n",
    "z_data = np.array([[1,2,3],[2,3,4]])\n",
    "z = tf.convert_to_tensor(z_data, dtype=tf.float32)\n",
    "print sess.run(x)\n",
    "print sess.run(y)\n",
    "print sess.run(z)"
   ]
  },
  {
   "cell_type": "code",
   "execution_count": null,
   "metadata": {
    "collapsed": true
   },
   "outputs": [],
   "source": []
  }
 ],
 "metadata": {
  "anaconda-cloud": {},
  "kernelspec": {
   "display_name": "Python [conda env:tensorflow]",
   "language": "python",
   "name": "conda-env-tensorflow-py"
  },
  "language_info": {
   "codemirror_mode": {
    "name": "ipython",
    "version": 2
   },
   "file_extension": ".py",
   "mimetype": "text/x-python",
   "name": "python",
   "nbconvert_exporter": "python",
   "pygments_lexer": "ipython2",
   "version": "2.7.13"
  }
 },
 "nbformat": 4,
 "nbformat_minor": 2
}
