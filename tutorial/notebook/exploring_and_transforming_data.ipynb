{
 "cells": [
  {
   "cell_type": "markdown",
   "metadata": {
    "collapsed": false
   },
   "source": [
    "# 1. Tensor\tproperties - ranks, shapes and types"
   ]
  },
  {
   "cell_type": "code",
   "execution_count": 4,
   "metadata": {
    "collapsed": false
   },
   "outputs": [
    {
     "name": "stdout",
     "output_type": "stream",
     "text": [
      "Tensor(\"Const_3:0\", shape=(2, 2, 2), dtype=int32)\n",
      "5\n"
     ]
    }
   ],
   "source": [
    "## tensor rank\n",
    "import tensorflow as tf\n",
    "tens1 = tf.constant([[[1,2],[2,3]],[[3,4],[5,6]]])\n",
    "print tens1\n",
    "sess = tf.Session()\n",
    "print sess.run(tens1)[1,1,0]"
   ]
  },
  {
   "cell_type": "markdown",
   "metadata": {},
   "source": [
    "# 2. Creating new tensor"
   ]
  },
  {
   "cell_type": "code",
   "execution_count": 4,
   "metadata": {
    "collapsed": false,
    "scrolled": true
   },
   "outputs": [
    {
     "name": "stdout",
     "output_type": "stream",
     "text": [
      "[ 0.86361557  0.7258231   0.08961751  0.75023025  0.57804155  0.03352209\n",
      "  0.93330175  0.43788651  0.48649251  0.74827981]\n",
      "[1 2 3]\n",
      "[[ 1.  2.  3.]\n",
      " [ 2.  3.  4.]]\n"
     ]
    }
   ],
   "source": [
    "import tensorflow as tf\n",
    "import numpy as np\n",
    "x = tf.constant(np.random.rand(10).astype(np.float32))\n",
    "y = tf.constant([1,2,3])\n",
    "z_data = np.array([[1,2,3],[2,3,4]])\n",
    "z = tf.convert_to_tensor(z_data, dtype=tf.float32)\n",
    "\n",
    "sess = tf.Session()\n",
    "print sess.run(x)\n",
    "print sess.run(y)\n",
    "print sess.run(z)"
   ]
  },
  {
   "cell_type": "markdown",
   "metadata": {
    "collapsed": true
   },
   "source": [
    "# 3. Simple matrix operation"
   ]
  },
  {
   "cell_type": "code",
   "execution_count": 14,
   "metadata": {
    "collapsed": false
   },
   "outputs": [
    {
     "name": "stdout",
     "output_type": "stream",
     "text": [
      "x transpose: \n",
      "[[ 2  0  4  6]\n",
      " [ 5  3  3  1]\n",
      " [ 3 -2  5  4]\n",
      " [-5  5  3  0]]\n",
      "matmul(x,y): \n",
      "[[ 39 -10 -46  -8  45]\n",
      " [ 19  31   0  35  23]\n",
      " [ 47  14  20  20  63]\n",
      " [ 38 -26  25 -10  47]]\n",
      "floatx determinant: 818.0\n",
      "floatx inverse: \n",
      "[[-0.00855745  0.10513447 -0.18948655  0.29584354]\n",
      " [ 0.12958434  0.12224938  0.01222495 -0.05134475]\n",
      " [-0.01955992 -0.18826404  0.28117359 -0.18092909]\n",
      " [-0.08557458  0.05134474  0.10513448 -0.0415648 ]]\n",
      "solve matrix: \n",
      "[[ 0.202934  ]\n",
      " [ 0.21271393]\n",
      " [-0.10757945]\n",
      " [ 0.02933985]]\n"
     ]
    }
   ],
   "source": [
    "import tensorflow as tf\n",
    "\n",
    "sess = tf.InteractiveSession()\n",
    "x = tf.constant([[2, 5, 3, -5],\n",
    "                [0, 3, -2, 5],\n",
    "                [4, 3, 5, 3],\n",
    "                [6, 1, 4, 0]])\n",
    "y = tf.constant([[4, -7, 4, -3, 4],\n",
    "                [6, 4, -7, 4, 7],\n",
    "                [2, 3, 2, 1, 4],\n",
    "                [1, 5, 5, 5, 2]])\n",
    "floatx = tf.constant([[2., 5., 3., -5.],\n",
    "                    [0., 3., -2., 5.],\n",
    "                    [4., 3., 5., 3.],\n",
    "                    [6., 1., 4., 0.]])\n",
    "print \"x transpose: \\n\", tf.transpose(x).eval()\n",
    "print \"matmul(x,y): \\n\", tf.matmul(x, y).eval()\n",
    "print \"floatx determinant:\", tf.matrix_determinant(floatx).eval()\n",
    "print \"floatx inverse: \\n\", tf.matrix_inverse(floatx).eval()\n",
    "print \"solve matrix: \\n\", tf.matrix_solve(floatx, [[1],[1],[1],[1]]).eval()"
   ]
  },
  {
   "cell_type": "markdown",
   "metadata": {},
   "source": [
    "# 4. Reduction\n",
    "Reduction is an operation that applies an operation across one of the tensor's dimensions, leaving it with one less dimension."
   ]
  },
  {
   "cell_type": "code",
   "execution_count": 23,
   "metadata": {
    "collapsed": false
   },
   "outputs": [
    {
     "name": "stdout",
     "output_type": "stream",
     "text": [
      "reduce_prod:  [ 6  6 -6]\n",
      "reduce_min:  [ 1  1 -3]\n",
      "reduce_max:  [ 3  3 -1]\n",
      "reduce_mean:  [ 2  2 -2]\n",
      "reduce_all:  [False False False]\n",
      "reduce_any:  [ True  True  True]\n"
     ]
    }
   ],
   "source": [
    "import tensorflow as tf\n",
    "\n",
    "sess = tf.InteractiveSession()\n",
    "x = tf.constant([[1, 2, 3],\n",
    "                [3, 2, 1],\n",
    "                [-1, -2, -3]])\n",
    "boolean_tensor = tf.constant([[True, False, True],\n",
    "                              [False, False, True],\n",
    "                              [True, False, False]])\n",
    "print \"reduce_prod: \", tf.reduce_prod(x, reduction_indices=1).eval()\n",
    "print \"reduce_min: \", tf.reduce_min(x, reduction_indices=1).eval()\n",
    "print \"reduce_max: \", tf.reduce_max(x, reduction_indices=1).eval()\n",
    "print \"reduce_mean: \", tf.reduce_mean(x, reduction_indices=1).eval()\n",
    "print \"reduce_all: \", tf.reduce_all(boolean_tensor, reduction_indices=1).eval()\n",
    "print \"reduce_any: \", tf.reduce_any(boolean_tensor, reduction_indices=1).eval()"
   ]
  },
  {
   "cell_type": "code",
   "execution_count": null,
   "metadata": {
    "collapsed": true
   },
   "outputs": [],
   "source": []
  }
 ],
 "metadata": {
  "anaconda-cloud": {},
  "kernelspec": {
   "display_name": "Python [conda env:tensorflow]",
   "language": "python",
   "name": "conda-env-tensorflow-py"
  },
  "language_info": {
   "codemirror_mode": {
    "name": "ipython",
    "version": 2
   },
   "file_extension": ".py",
   "mimetype": "text/x-python",
   "name": "python",
   "nbconvert_exporter": "python",
   "pygments_lexer": "ipython2",
   "version": "2.7.13"
  }
 },
 "nbformat": 4,
 "nbformat_minor": 2
}
